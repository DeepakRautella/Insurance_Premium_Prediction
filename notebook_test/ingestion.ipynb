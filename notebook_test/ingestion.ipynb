{
 "cells": [
  {
   "cell_type": "code",
   "execution_count": 1,
   "metadata": {},
   "outputs": [
    {
     "data": {
      "text/plain": [
       "('b:\\\\Python_projects\\\\Insurance_Prediction\\\\notebook_test\\\\insurance.tbz',\n",
       " <http.client.HTTPMessage at 0x2785d166408>)"
      ]
     },
     "execution_count": 1,
     "metadata": {},
     "output_type": "execute_result"
    }
   ],
   "source": [
    "from six.moves import urllib\n",
    "import tarfile\n",
    "import os\n",
    "file_path=os.path.join(os.getcwd(),'insurance.tbz')\n",
    "dataset_download_url ='https://www.kaggle.com/datasets/noordeen/insurance-premium-prediction/download'\n",
    "urllib.request.urlretrieve(dataset_download_url,file_path)\n"
   ]
  },
  {
   "cell_type": "code",
   "execution_count": 3,
   "metadata": {},
   "outputs": [
    {
     "data": {
      "text/plain": [
       "'b:\\\\Python_projects\\\\Insurance_Prediction\\\\notebook_test'"
      ]
     },
     "execution_count": 3,
     "metadata": {},
     "output_type": "execute_result"
    }
   ],
   "source": [
    "os.getcwd()\n"
   ]
  },
  {
   "cell_type": "code",
   "execution_count": 1,
   "metadata": {},
   "outputs": [],
   "source": [
    "os.chdir('b:\\\\Python_projects\\\\Insurance_Prediction')\n"
   ]
  },
  {
   "cell_type": "code",
   "execution_count": 2,
   "metadata": {},
   "outputs": [],
   "source": [
    "file_path=r'B:\\Python_projects\\Insurance_Prediction\\config\\config.yaml'\n",
    "\n",
    "from InsurancePremiumPrediction.config.configuration import Configuration\n",
    "config=Configuration(file_path)\n",
    "data_ingestion_coonfig_=config.get_data_ingested_config()\n"
   ]
  },
  {
   "cell_type": "code",
   "execution_count": 3,
   "metadata": {},
   "outputs": [],
   "source": [
    "from InsurancePremiumPrediction.component.data_ingestion import DataIngestion\n",
    "x=DataIngestion(data_ingestion_config=data_ingestion_coonfig_)\n"
   ]
  },
  {
   "cell_type": "code",
   "execution_count": 4,
   "metadata": {},
   "outputs": [],
   "source": [
    "x.download_insurance_data()"
   ]
  },
  {
   "cell_type": "code",
   "execution_count": null,
   "metadata": {},
   "outputs": [],
   "source": []
  }
 ],
 "metadata": {
  "kernelspec": {
   "display_name": "Python 3.7.6",
   "language": "python",
   "name": "python3"
  },
  "language_info": {
   "codemirror_mode": {
    "name": "ipython",
    "version": 3
   },
   "file_extension": ".py",
   "mimetype": "text/x-python",
   "name": "python",
   "nbconvert_exporter": "python",
   "pygments_lexer": "ipython3",
   "version": "3.7.6"
  },
  "orig_nbformat": 4,
  "vscode": {
   "interpreter": {
    "hash": "a1845b4a8d9138821ddb4275830c41df4491d7e5c55a139194ee27ea315d7467"
   }
  }
 },
 "nbformat": 4,
 "nbformat_minor": 2
}
