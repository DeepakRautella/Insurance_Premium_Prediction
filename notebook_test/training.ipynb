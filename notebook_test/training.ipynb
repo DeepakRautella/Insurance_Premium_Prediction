{
 "cells": [
  {
   "cell_type": "code",
   "execution_count": 1,
   "metadata": {},
   "outputs": [],
   "source": [
    "from InsurancePremiumPrediction.entity.artifact_entity import DataIngestionArtifact,\\\n",
    "    DataValidationArtifact,DataTransformationArtifact, ModelTrainerArtifact\n",
    "from InsurancePremiumPrediction.entity.config_entity import ModelTrainerConfig\n",
    "from InsurancePremiumPrediction.util.util import load_numpy_array_data\n",
    "import os,sys\n",
    "\n",
    "from sklearn.ensemble import GradientBoostingRegressor,RandomForestRegressor\n",
    "from sklearn.linear_model import LinearRegression\n",
    "from sklearn.tree import DecisionTreeRegressor\n",
    "from sklearn.neighbors import KNeighborsRegressor\n",
    "from sklearn.model_selection import GridSearchCV,train_test_split\n",
    "from sklearn.metrics._regression import r2_score,mean_squared_error\n",
    "import pickle\n"
   ]
  },
  {
   "cell_type": "code",
   "execution_count": 2,
   "metadata": {},
   "outputs": [],
   "source": [
    "os.chdir('B:\\Python_projects\\Insurance_Prediction')"
   ]
  },
  {
   "cell_type": "code",
   "execution_count": 3,
   "metadata": {},
   "outputs": [],
   "source": [
    "model_dict={}\n",
    "linear_model=LinearRegression()\n",
    "decision_tree_model=DecisionTreeRegressor()\n",
    "knn_model=KNeighborsRegressor()\n",
    "gradient_booster=GradientBoostingRegressor()\n",
    "random_booster=RandomForestRegressor()\n",
    "model_dict['linear_model']=linear_model\n",
    "model_dict['decision_tree_model']=decision_tree_model\n",
    "model_dict['knn_model']=knn_model\n",
    "model_dict['gradient_booster']=gradient_booster\n",
    "model_dict['random_booster']=random_booster\n",
    "\n",
    "\n",
    "        "
   ]
  },
  {
   "cell_type": "code",
   "execution_count": 4,
   "metadata": {},
   "outputs": [
    {
     "data": {
      "text/plain": [
       "{'linear_model': LinearRegression(),\n",
       " 'decision_tree_model': DecisionTreeRegressor(),\n",
       " 'knn_model': KNeighborsRegressor(),\n",
       " 'gradient_booster': GradientBoostingRegressor(),\n",
       " 'random_booster': RandomForestRegressor()}"
      ]
     },
     "execution_count": 4,
     "metadata": {},
     "output_type": "execute_result"
    }
   ],
   "source": [
    "model_dict"
   ]
  },
  {
   "cell_type": "code",
   "execution_count": 5,
   "metadata": {},
   "outputs": [],
   "source": [
    "tain_array_path=r'B:\\Python_projects\\Insurance_Prediction\\InsurancePremiumPrediction\\artifact\\data_transformation\\22-07-17-12-03-36\\transformed_data\\train\\insurance.npz'\n",
    "test_array_path=r'B:\\Python_projects\\Insurance_Prediction\\InsurancePremiumPrediction\\artifact\\data_transformation\\22-07-17-12-03-36\\transformed_data\\test\\insurance.npz'"
   ]
  },
  {
   "cell_type": "code",
   "execution_count": 6,
   "metadata": {},
   "outputs": [],
   "source": [
    "train_array=load_numpy_array_data(test_array_path)\n",
    "test_array=load_numpy_array_data(test_array_path)\n",
    "x_train,y_train,x_vaidation,y_validation=train_array[:,:-1],train_array[:,-1],test_array[:,:-1],test_array[:,-1]\n",
    "\n",
    "X_train,X_test,Y_train,Y_test=train_test_split(x_train,y_train,random_state=42,test_size=.25)"
   ]
  },
  {
   "cell_type": "code",
   "execution_count": null,
   "metadata": {},
   "outputs": [],
   "source": []
  },
  {
   "cell_type": "code",
   "execution_count": 37,
   "metadata": {},
   "outputs": [],
   "source": [
    "model_score_set={}\n",
    "for i in model_dict.values():\n",
    "    i.fit(X_train,Y_train)\n",
    "    Y_predict=i.predict(X_test)\n",
    "    model_score_set[i]=[i.score(X_train,Y_train),r2_score(Y_test,Y_predict)]"
   ]
  },
  {
   "cell_type": "code",
   "execution_count": 38,
   "metadata": {},
   "outputs": [
    {
     "data": {
      "text/plain": [
       "{LinearRegression(): [0.7411663050011708, 0.7235116716346139],\n",
       " DecisionTreeRegressor(): [1.0, 0.7743290215771234],\n",
       " KNeighborsRegressor(): [0.7997540507267018, 0.6693900600920861],\n",
       " GradientBoostingRegressor(): [0.9561560087868748, 0.8171190722272956],\n",
       " RandomForestRegressor(): [0.9727382430365209, 0.8147036909921247]}"
      ]
     },
     "execution_count": 38,
     "metadata": {},
     "output_type": "execute_result"
    }
   ],
   "source": [
    "model_score_set"
   ]
  },
  {
   "cell_type": "code",
   "execution_count": 9,
   "metadata": {},
   "outputs": [],
   "source": [
    "x=list(model_score_set.values())\n",
    "import numpy as np\n",
    "x=np.array(x)\n",
    "max=0\n",
    "for i in range(5):\n",
    "    if max <x[i][1]:\n",
    "        max=x[i][1]"
   ]
  },
  {
   "cell_type": "code",
   "execution_count": 10,
   "metadata": {},
   "outputs": [
    {
     "data": {
      "text/plain": [
       "0.8181943402944332"
      ]
     },
     "execution_count": 10,
     "metadata": {},
     "output_type": "execute_result"
    }
   ],
   "source": [
    "max"
   ]
  },
  {
   "cell_type": "code",
   "execution_count": 58,
   "metadata": {},
   "outputs": [],
   "source": [
    "para_grid_gradient={\n",
    "    'learning_rate' : [0.1,0.01],\n",
    "    'n_estimators': [50,100],\n",
    "    'criterion':['friedman_mse', 'squared_error'],\n",
    "    'min_samples_leaf':[2,5,7],\n",
    "    'max_depth': [None,2,3,4,5],\n",
    "    'random_state': [None,0,100],\n",
    "    'alpha': [0.2,0.5,0.7,0.9],\n",
    "    'ccp_alpha': [0.0,0.01,0.1]\n",
    "    }\n"
   ]
  },
  {
   "cell_type": "code",
   "execution_count": 59,
   "metadata": {},
   "outputs": [
    {
     "data": {
      "text/plain": [
       "{'alpha': 0.9,\n",
       " 'ccp_alpha': 0.0,\n",
       " 'criterion': 'friedman_mse',\n",
       " 'init': None,\n",
       " 'learning_rate': 0.1,\n",
       " 'loss': 'squared_error',\n",
       " 'max_depth': 3,\n",
       " 'max_features': None,\n",
       " 'max_leaf_nodes': None,\n",
       " 'min_impurity_decrease': 0.0,\n",
       " 'min_samples_leaf': 1,\n",
       " 'min_samples_split': 2,\n",
       " 'min_weight_fraction_leaf': 0.0,\n",
       " 'n_estimators': 100,\n",
       " 'n_iter_no_change': None,\n",
       " 'random_state': None,\n",
       " 'subsample': 1.0,\n",
       " 'tol': 0.0001,\n",
       " 'validation_fraction': 0.1,\n",
       " 'verbose': 0,\n",
       " 'warm_start': False}"
      ]
     },
     "execution_count": 59,
     "metadata": {},
     "output_type": "execute_result"
    }
   ],
   "source": [
    "gradient_booster.get_params()"
   ]
  },
  {
   "cell_type": "code",
   "execution_count": 60,
   "metadata": {},
   "outputs": [],
   "source": [
    "grid_cv_gradient=GridSearchCV(error_score='raise',estimator=gradient_booster,param_grid=para_grid_gradient,cv=2,n_jobs=-1,verbose=1)"
   ]
  },
  {
   "cell_type": "code",
   "execution_count": 61,
   "metadata": {},
   "outputs": [
    {
     "name": "stdout",
     "output_type": "stream",
     "text": [
      "Fitting 2 folds for each of 4320 candidates, totalling 8640 fits\n"
     ]
    },
    {
     "data": {
      "text/plain": [
       "GridSearchCV(cv=2, error_score='raise', estimator=GradientBoostingRegressor(),\n",
       "             n_jobs=-1,\n",
       "             param_grid={'alpha': [0.2, 0.5, 0.7, 0.9],\n",
       "                         'ccp_alpha': [0.0, 0.01, 0.1],\n",
       "                         'criterion': ['friedman_mse', 'squared_error'],\n",
       "                         'learning_rate': [0.1, 0.01],\n",
       "                         'max_depth': [None, 2, 3, 4, 5],\n",
       "                         'min_samples_leaf': [2, 5, 7],\n",
       "                         'n_estimators': [50, 100],\n",
       "                         'random_state': [None, 0, 100]},\n",
       "             verbose=1)"
      ]
     },
     "execution_count": 61,
     "metadata": {},
     "output_type": "execute_result"
    }
   ],
   "source": [
    "grid_cv_gradient.fit(X_train,Y_train)"
   ]
  },
  {
   "cell_type": "code",
   "execution_count": 64,
   "metadata": {},
   "outputs": [
    {
     "data": {
      "text/plain": [
       "{'alpha': 0.2,\n",
       " 'ccp_alpha': 0.0,\n",
       " 'criterion': 'friedman_mse',\n",
       " 'learning_rate': 0.1,\n",
       " 'max_depth': 2,\n",
       " 'min_samples_leaf': 7,\n",
       " 'n_estimators': 100,\n",
       " 'random_state': None}"
      ]
     },
     "execution_count": 64,
     "metadata": {},
     "output_type": "execute_result"
    }
   ],
   "source": [
    "grid_cv_gradient.best_params_"
   ]
  },
  {
   "cell_type": "code",
   "execution_count": 65,
   "metadata": {},
   "outputs": [],
   "source": [
    "gradient_booster_new=GradientBoostingRegressor(alpha=0.2, max_depth=2, min_samples_leaf=7,n_estimators=100,random_state=None,ccp_alpha=0.0)"
   ]
  },
  {
   "cell_type": "code",
   "execution_count": 70,
   "metadata": {},
   "outputs": [
    {
     "data": {
      "text/plain": [
       "0.8940321722255743"
      ]
     },
     "execution_count": 70,
     "metadata": {},
     "output_type": "execute_result"
    }
   ],
   "source": [
    "gradient_booster_new.fit(X_train,Y_train)\n",
    "gradient_booster_new.score(X_train,Y_train)"
   ]
  },
  {
   "cell_type": "code",
   "execution_count": 67,
   "metadata": {},
   "outputs": [],
   "source": [
    "Y_predict_=gradient_booster_new.predict(X_test)"
   ]
  },
  {
   "cell_type": "code",
   "execution_count": 68,
   "metadata": {},
   "outputs": [
    {
     "data": {
      "text/plain": [
       "0.8328327757021002"
      ]
     },
     "execution_count": 68,
     "metadata": {},
     "output_type": "execute_result"
    }
   ],
   "source": [
    "gradient_booster_new.score(X_test,Y_test)"
   ]
  },
  {
   "cell_type": "code",
   "execution_count": 69,
   "metadata": {},
   "outputs": [
    {
     "data": {
      "text/plain": [
       "0.8328327757021002"
      ]
     },
     "execution_count": 69,
     "metadata": {},
     "output_type": "execute_result"
    }
   ],
   "source": [
    "r2_score(Y_test,Y_predict_)"
   ]
  },
  {
   "cell_type": "code",
   "execution_count": 71,
   "metadata": {},
   "outputs": [],
   "source": [
    "y_predict_validation=gradient_booster_new.predict(x_vaidation)"
   ]
  },
  {
   "cell_type": "code",
   "execution_count": 72,
   "metadata": {},
   "outputs": [
    {
     "data": {
      "text/plain": [
       "0.8759200969403436"
      ]
     },
     "execution_count": 72,
     "metadata": {},
     "output_type": "execute_result"
    }
   ],
   "source": [
    "r2_score(y_validation,y_predict_validation)"
   ]
  },
  {
   "cell_type": "code",
   "execution_count": null,
   "metadata": {},
   "outputs": [],
   "source": []
  }
 ],
 "metadata": {
  "kernelspec": {
   "display_name": "Python 3.7.6 (conda)",
   "language": "python",
   "name": "python3"
  },
  "language_info": {
   "codemirror_mode": {
    "name": "ipython",
    "version": 3
   },
   "file_extension": ".py",
   "mimetype": "text/x-python",
   "name": "python",
   "nbconvert_exporter": "python",
   "pygments_lexer": "ipython3",
   "version": "3.7.6"
  },
  "orig_nbformat": 4,
  "vscode": {
   "interpreter": {
    "hash": "a1845b4a8d9138821ddb4275830c41df4491d7e5c55a139194ee27ea315d7467"
   }
  }
 },
 "nbformat": 4,
 "nbformat_minor": 2
}
