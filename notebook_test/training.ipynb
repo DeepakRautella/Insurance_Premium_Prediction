{
 "cells": [
  {
   "cell_type": "code",
   "execution_count": 1,
   "metadata": {},
   "outputs": [],
   "source": [
    "import os\n",
    "os.chdir('D:\\Python_projects\\Insurance_Prediction')\n",
    "\n"
   ]
  },
  {
   "cell_type": "code",
   "execution_count": 29,
   "metadata": {},
   "outputs": [
    {
     "name": "stdout",
     "output_type": "stream",
     "text": [
      "Collecting xgboost\n",
      "  Downloading xgboost-1.6.1-py3-none-win_amd64.whl (125.4 MB)\n",
      "Requirement already satisfied: numpy in c:\\users\\hp\\anaconda3\\lib\\site-packages (from xgboost) (1.20.3)\n",
      "Requirement already satisfied: scipy in c:\\users\\hp\\anaconda3\\lib\\site-packages (from xgboost) (1.7.1)\n",
      "Installing collected packages: xgboost\n",
      "Successfully installed xgboost-1.6.1\n",
      "Note: you may need to restart the kernel to use updated packages.\n"
     ]
    }
   ],
   "source": [
    "%pip install xgboost\n"
   ]
  },
  {
   "cell_type": "code",
   "execution_count": 31,
   "metadata": {},
   "outputs": [],
   "source": [
    "\n",
    "from InsurancePremiumPrediction.entity.artifact_entity import DataIngestionArtifact,\\\n",
    "    DataValidationArtifact,DataTransformationArtifact, ModelTrainerArtifact\n",
    "from InsurancePremiumPrediction.entity.config_entity import ModelTrainerConfig\n",
    "from InsurancePremiumPrediction.util.util import load_numpy_array_data\n",
    "import os,sys\n",
    "\n",
    "from sklearn.ensemble import GradientBoostingRegressor,RandomForestRegressor\n",
    "from sklearn.linear_model import LinearRegression\n",
    "from sklearn.tree import DecisionTreeRegressor\n",
    "from sklearn.neighbors import KNeighborsRegressor\n",
    "from sklearn.model_selection import GridSearchCV,train_test_split\n",
    "from sklearn.metrics._regression import r2_score,mean_squared_error\n",
    "from xgboost import XGBRegressor\n",
    "import pickle\n"
   ]
  },
  {
   "cell_type": "code",
   "execution_count": 32,
   "metadata": {},
   "outputs": [],
   "source": [
    "os.chdir('D:\\Python_projects\\Insurance_Prediction')"
   ]
  },
  {
   "cell_type": "code",
   "execution_count": 35,
   "metadata": {},
   "outputs": [],
   "source": [
    "model_dict={}\n",
    "linear_model=LinearRegression()\n",
    "decision_tree_model=DecisionTreeRegressor()\n",
    "knn_model=KNeighborsRegressor()\n",
    "gradient_booster=GradientBoostingRegressor()\n",
    "random_booster=RandomForestRegressor()\n",
    "xgb_regressor_model=XGBRegressor()\n",
    "model_dict['linear_model']=linear_model\n",
    "model_dict['decision_tree_model']=decision_tree_model\n",
    "model_dict['knn_model']=knn_model\n",
    "model_dict['gradient_booster']=gradient_booster\n",
    "model_dict['random_booster']=random_booster\n",
    "model_dict['xgb_regressor_model']=xgb_regressor_model\n",
    "\n",
    "        "
   ]
  },
  {
   "cell_type": "code",
   "execution_count": 36,
   "metadata": {},
   "outputs": [
    {
     "data": {
      "text/plain": [
       "{'linear_model': LinearRegression(),\n",
       " 'decision_tree_model': DecisionTreeRegressor(),\n",
       " 'knn_model': KNeighborsRegressor(),\n",
       " 'gradient_booster': GradientBoostingRegressor(),\n",
       " 'random_booster': RandomForestRegressor(),\n",
       " 'xgb_regressor_model': XGBRegressor(base_score=None, booster=None, callbacks=None,\n",
       "              colsample_bylevel=None, colsample_bynode=None,\n",
       "              colsample_bytree=None, early_stopping_rounds=None,\n",
       "              enable_categorical=False, eval_metric=None, gamma=None,\n",
       "              gpu_id=None, grow_policy=None, importance_type=None,\n",
       "              interaction_constraints=None, learning_rate=None, max_bin=None,\n",
       "              max_cat_to_onehot=None, max_delta_step=None, max_depth=None,\n",
       "              max_leaves=None, min_child_weight=None, missing=nan,\n",
       "              monotone_constraints=None, n_estimators=100, n_jobs=None,\n",
       "              num_parallel_tree=None, predictor=None, random_state=None,\n",
       "              reg_alpha=None, reg_lambda=None, ...)}"
      ]
     },
     "execution_count": 36,
     "metadata": {},
     "output_type": "execute_result"
    }
   ],
   "source": [
    "model_dict"
   ]
  },
  {
   "cell_type": "code",
   "execution_count": 37,
   "metadata": {},
   "outputs": [],
   "source": [
    "tain_array_path=r'D:\\Python_projects\\Insurance_Prediction\\InsurancePremiumPrediction\\artifact\\data_transformation\\22-07-18-02-36-58\\transformed_data\\train\\insurance.npz'\n",
    "test_array_path=r'D:\\Python_projects\\Insurance_Prediction\\InsurancePremiumPrediction\\artifact\\data_transformation\\22-07-18-02-36-58\\transformed_data\\test\\insurance.npz'"
   ]
  },
  {
   "cell_type": "code",
   "execution_count": 38,
   "metadata": {},
   "outputs": [],
   "source": [
    "train_array=load_numpy_array_data(test_array_path)\n",
    "test_array=load_numpy_array_data(test_array_path)\n",
    "x_train,y_train,x_vaidation,y_validation=train_array[:,:-1],train_array[:,-1],test_array[:,:-1],test_array[:,-1]\n",
    "\n",
    "X_train,X_test,Y_train,Y_test=train_test_split(x_train,y_train,random_state=42,test_size=.25)"
   ]
  },
  {
   "cell_type": "code",
   "execution_count": null,
   "metadata": {},
   "outputs": [],
   "source": []
  },
  {
   "cell_type": "code",
   "execution_count": 39,
   "metadata": {},
   "outputs": [],
   "source": [
    "model_score_set={}\n",
    "for i in model_dict.values():\n",
    "    i.fit(X_train,Y_train)\n",
    "    Y_predict=i.predict(X_test)\n",
    "    model_score_set[i]=[i.score(X_train,Y_train),r2_score(Y_test,Y_predict)]"
   ]
  },
  {
   "cell_type": "code",
   "execution_count": 40,
   "metadata": {},
   "outputs": [
    {
     "data": {
      "text/plain": [
       "{LinearRegression(): [0.7411570936121894, 0.7228855168753151],\n",
       " DecisionTreeRegressor(): [1.0, 0.7551616146249245],\n",
       " KNeighborsRegressor(): [0.7997540507267018, 0.6693900600920861],\n",
       " GradientBoostingRegressor(): [0.9561560087868748, 0.8174222380329819],\n",
       " RandomForestRegressor(): [0.9746094894261738, 0.8175538031140356],\n",
       " XGBRegressor(base_score=0.5, booster='gbtree', callbacks=None,\n",
       "              colsample_bylevel=1, colsample_bynode=1, colsample_bytree=1,\n",
       "              early_stopping_rounds=None, enable_categorical=False,\n",
       "              eval_metric=None, gamma=0, gpu_id=-1, grow_policy='depthwise',\n",
       "              importance_type=None, interaction_constraints='',\n",
       "              learning_rate=0.300000012, max_bin=256, max_cat_to_onehot=4,\n",
       "              max_delta_step=0, max_depth=6, max_leaves=0, min_child_weight=1,\n",
       "              missing=nan, monotone_constraints='()', n_estimators=100, n_jobs=0,\n",
       "              num_parallel_tree=1, predictor='auto', random_state=0, reg_alpha=0,\n",
       "              reg_lambda=1, ...): [0.9999994869071108, 0.7754652912868699]}"
      ]
     },
     "execution_count": 40,
     "metadata": {},
     "output_type": "execute_result"
    }
   ],
   "source": [
    "model_score_set"
   ]
  },
  {
   "cell_type": "code",
   "execution_count": 41,
   "metadata": {},
   "outputs": [],
   "source": [
    "x=list(model_score_set.values())\n",
    "import numpy as np\n",
    "x=np.array(x)\n",
    "max=0\n",
    "for i in range(6):\n",
    "    if max <x[i][1]:\n",
    "        max=x[i][1]"
   ]
  },
  {
   "cell_type": "code",
   "execution_count": 42,
   "metadata": {},
   "outputs": [
    {
     "data": {
      "text/plain": [
       "0.8175538031140356"
      ]
     },
     "execution_count": 42,
     "metadata": {},
     "output_type": "execute_result"
    }
   ],
   "source": [
    "max"
   ]
  },
  {
   "cell_type": "code",
   "execution_count": null,
   "metadata": {},
   "outputs": [],
   "source": []
  },
  {
   "cell_type": "code",
   "execution_count": 77,
   "metadata": {},
   "outputs": [],
   "source": [
    "para_grid_gradient={\n",
    "    'learning_rate' : [0.1,0.01],\n",
    "    'n_estimators': [50,100],\n",
    "    'criterion':['friedman_mse'],\n",
    "    'min_samples_leaf':[2,5,7],\n",
    "    'max_depth': [None,2,3,4,5],\n",
    "    'random_state': [None,0,100],\n",
    "    'alpha': [0.2,0.5,0.7,0.9],\n",
    "    'ccp_alpha': [0.0,0.01,0.1]\n",
    "    }\n"
   ]
  },
  {
   "cell_type": "code",
   "execution_count": 78,
   "metadata": {},
   "outputs": [
    {
     "data": {
      "text/plain": [
       "{'alpha': 0.9,\n",
       " 'ccp_alpha': 0.0,\n",
       " 'criterion': 'friedman_mse',\n",
       " 'init': None,\n",
       " 'learning_rate': 0.1,\n",
       " 'loss': 'ls',\n",
       " 'max_depth': 3,\n",
       " 'max_features': None,\n",
       " 'max_leaf_nodes': None,\n",
       " 'min_impurity_decrease': 0.0,\n",
       " 'min_impurity_split': None,\n",
       " 'min_samples_leaf': 1,\n",
       " 'min_samples_split': 2,\n",
       " 'min_weight_fraction_leaf': 0.0,\n",
       " 'n_estimators': 100,\n",
       " 'n_iter_no_change': None,\n",
       " 'random_state': None,\n",
       " 'subsample': 1.0,\n",
       " 'tol': 0.0001,\n",
       " 'validation_fraction': 0.1,\n",
       " 'verbose': 0,\n",
       " 'warm_start': False}"
      ]
     },
     "execution_count": 78,
     "metadata": {},
     "output_type": "execute_result"
    }
   ],
   "source": [
    "gradient_booster.get_params()"
   ]
  },
  {
   "cell_type": "code",
   "execution_count": 79,
   "metadata": {},
   "outputs": [],
   "source": [
    "grid_cv_gradient=GridSearchCV(error_score='raise',estimator=gradient_booster,param_grid=para_grid_gradient,cv=2,n_jobs=-1,verbose=1)"
   ]
  },
  {
   "cell_type": "code",
   "execution_count": 80,
   "metadata": {},
   "outputs": [
    {
     "name": "stdout",
     "output_type": "stream",
     "text": [
      "Fitting 2 folds for each of 2160 candidates, totalling 4320 fits\n"
     ]
    },
    {
     "data": {
      "text/plain": [
       "GridSearchCV(cv=2, error_score='raise', estimator=GradientBoostingRegressor(),\n",
       "             n_jobs=-1,\n",
       "             param_grid={'alpha': [0.2, 0.5, 0.7, 0.9],\n",
       "                         'ccp_alpha': [0.0, 0.01, 0.1],\n",
       "                         'criterion': ['friedman_mse'],\n",
       "                         'learning_rate': [0.1, 0.01],\n",
       "                         'max_depth': [None, 2, 3, 4, 5],\n",
       "                         'min_samples_leaf': [2, 5, 7],\n",
       "                         'n_estimators': [50, 100],\n",
       "                         'random_state': [None, 0, 100]},\n",
       "             verbose=1)"
      ]
     },
     "execution_count": 80,
     "metadata": {},
     "output_type": "execute_result"
    }
   ],
   "source": [
    "grid_cv_gradient.fit(X_train,Y_train)"
   ]
  },
  {
   "cell_type": "code",
   "execution_count": 81,
   "metadata": {},
   "outputs": [
    {
     "data": {
      "text/plain": [
       "{'alpha': 0.2,\n",
       " 'ccp_alpha': 0.0,\n",
       " 'criterion': 'friedman_mse',\n",
       " 'learning_rate': 0.1,\n",
       " 'max_depth': 2,\n",
       " 'min_samples_leaf': 7,\n",
       " 'n_estimators': 100,\n",
       " 'random_state': None}"
      ]
     },
     "execution_count": 81,
     "metadata": {},
     "output_type": "execute_result"
    }
   ],
   "source": [
    "grid_cv_gradient.best_params_"
   ]
  },
  {
   "cell_type": "code",
   "execution_count": 104,
   "metadata": {},
   "outputs": [],
   "source": [
    "gradient_booster_new=GradientBoostingRegressor(alpha=0.9, max_depth=2, min_samples_leaf=7,n_estimators=100,random_state=None,ccp_alpha=0.0)"
   ]
  },
  {
   "cell_type": "code",
   "execution_count": 105,
   "metadata": {},
   "outputs": [
    {
     "data": {
      "text/plain": [
       "0.8940321722255743"
      ]
     },
     "execution_count": 105,
     "metadata": {},
     "output_type": "execute_result"
    }
   ],
   "source": [
    "gradient_booster_new.fit(X_train,Y_train)\n",
    "gradient_booster_new.score(X_train,Y_train)"
   ]
  },
  {
   "cell_type": "code",
   "execution_count": 106,
   "metadata": {},
   "outputs": [],
   "source": [
    "Y_predict_=gradient_booster_new.predict(X_test)"
   ]
  },
  {
   "cell_type": "code",
   "execution_count": 107,
   "metadata": {},
   "outputs": [
    {
     "data": {
      "text/plain": [
       "0.8328327757021002"
      ]
     },
     "execution_count": 107,
     "metadata": {},
     "output_type": "execute_result"
    }
   ],
   "source": [
    "gradient_booster_new.score(X_test,Y_test)"
   ]
  },
  {
   "cell_type": "code",
   "execution_count": 108,
   "metadata": {},
   "outputs": [
    {
     "data": {
      "text/plain": [
       "0.8328327757021002"
      ]
     },
     "execution_count": 108,
     "metadata": {},
     "output_type": "execute_result"
    }
   ],
   "source": [
    "r2_score(Y_test,Y_predict_)"
   ]
  },
  {
   "cell_type": "code",
   "execution_count": 109,
   "metadata": {},
   "outputs": [],
   "source": [
    "y_predict_validation=gradient_booster_new.predict(x_vaidation)"
   ]
  },
  {
   "cell_type": "code",
   "execution_count": 110,
   "metadata": {},
   "outputs": [
    {
     "data": {
      "text/plain": [
       "0.8759200969403436"
      ]
     },
     "execution_count": 110,
     "metadata": {},
     "output_type": "execute_result"
    }
   ],
   "source": [
    "r2_score(y_validation,y_predict_validation)"
   ]
  },
  {
   "cell_type": "code",
   "execution_count": null,
   "metadata": {},
   "outputs": [],
   "source": []
  }
 ],
 "metadata": {
  "kernelspec": {
   "display_name": "Python 3.9.7 ('base')",
   "language": "python",
   "name": "python3"
  },
  "language_info": {
   "codemirror_mode": {
    "name": "ipython",
    "version": 3
   },
   "file_extension": ".py",
   "mimetype": "text/x-python",
   "name": "python",
   "nbconvert_exporter": "python",
   "pygments_lexer": "ipython3",
   "version": "3.9.7"
  },
  "orig_nbformat": 4,
  "vscode": {
   "interpreter": {
    "hash": "b302cdd1e032ee910f5c889c3360c28564c92ad4f326fc3102e39fbe47faee66"
   }
  }
 },
 "nbformat": 4,
 "nbformat_minor": 2
}
