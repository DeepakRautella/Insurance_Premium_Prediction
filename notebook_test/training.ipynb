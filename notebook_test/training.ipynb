{
 "cells": [
  {
   "cell_type": "code",
   "execution_count": 1,
   "metadata": {},
   "outputs": [],
   "source": [
    "import os\n",
    "os.chdir('D:\\Python_projects\\Insurance_Prediction')\n",
    "\n"
   ]
  },
  {
   "cell_type": "code",
   "execution_count": null,
   "metadata": {},
   "outputs": [],
   "source": [
    "\n"
   ]
  },
  {
   "cell_type": "code",
   "execution_count": 44,
   "metadata": {},
   "outputs": [],
   "source": [
    "\n",
    "from InsurancePremiumPrediction.entity.artifact_entity import DataIngestionArtifact,\\\n",
    "    DataValidationArtifact,DataTransformationArtifact, ModelTrainerArtifact\n",
    "from InsurancePremiumPrediction.entity.config_entity import ModelTrainerConfig\n",
    "from InsurancePremiumPrediction.util.util import load_numpy_array_data\n",
    "import os,sys\n",
    "\n",
    "from sklearn.ensemble import GradientBoostingRegressor,RandomForestRegressor\n",
    "from sklearn.linear_model import LinearRegression\n",
    "from sklearn.tree import DecisionTreeRegressor\n",
    "from sklearn.neighbors import KNeighborsRegressor\n",
    "from sklearn.model_selection import GridSearchCV,train_test_split\n",
    "from sklearn.metrics._regression import r2_score\n",
    "from xgboost import XGBRegressor\n",
    "import pickle\n"
   ]
  },
  {
   "cell_type": "code",
   "execution_count": 45,
   "metadata": {},
   "outputs": [],
   "source": [
    "os.chdir('D:\\Python_projects\\Insurance_Prediction')"
   ]
  },
  {
   "cell_type": "code",
   "execution_count": 4,
   "metadata": {},
   "outputs": [],
   "source": [
    "model_dict={}\n",
    "linear_model=LinearRegression()\n",
    "decision_tree_model=DecisionTreeRegressor()\n",
    "knn_model=KNeighborsRegressor()\n",
    "gradient_booster=GradientBoostingRegressor()\n",
    "random_booster=RandomForestRegressor()\n",
    "xgb_regressor_model=XGBRegressor()\n",
    "model_dict['linear_model']=linear_model\n",
    "model_dict['decision_tree_model']=decision_tree_model\n",
    "model_dict['knn_model']=knn_model\n",
    "model_dict['gradient_booster']=gradient_booster\n",
    "model_dict['random_booster']=random_booster\n",
    "model_dict['xgb_regressor_model']=xgb_regressor_model\n",
    "\n",
    "        "
   ]
  },
  {
   "cell_type": "code",
   "execution_count": 8,
   "metadata": {},
   "outputs": [
    {
     "data": {
      "text/plain": [
       "GradientBoostingRegressor(alpha=0.1, max_depth=2, min_samples_split=7,\n",
       "                          random_state=100)"
      ]
     },
     "execution_count": 8,
     "metadata": {},
     "output_type": "execute_result"
    }
   ],
   "source": [
    "#gradient_booster.set_params(max_depth=2, min_samples_split=7, random_state=100,alpha=0.1)"
   ]
  },
  {
   "cell_type": "code",
   "execution_count": 5,
   "metadata": {},
   "outputs": [
    {
     "data": {
      "text/plain": [
       "{'linear_model': LinearRegression(),\n",
       " 'decision_tree_model': DecisionTreeRegressor(),\n",
       " 'knn_model': KNeighborsRegressor(),\n",
       " 'gradient_booster': GradientBoostingRegressor(),\n",
       " 'random_booster': RandomForestRegressor(),\n",
       " 'xgb_regressor_model': XGBRegressor(base_score=None, booster=None, callbacks=None,\n",
       "              colsample_bylevel=None, colsample_bynode=None,\n",
       "              colsample_bytree=None, early_stopping_rounds=None,\n",
       "              enable_categorical=False, eval_metric=None, gamma=None,\n",
       "              gpu_id=None, grow_policy=None, importance_type=None,\n",
       "              interaction_constraints=None, learning_rate=None, max_bin=None,\n",
       "              max_cat_to_onehot=None, max_delta_step=None, max_depth=None,\n",
       "              max_leaves=None, min_child_weight=None, missing=nan,\n",
       "              monotone_constraints=None, n_estimators=100, n_jobs=None,\n",
       "              num_parallel_tree=None, predictor=None, random_state=None,\n",
       "              reg_alpha=None, reg_lambda=None, ...)}"
      ]
     },
     "execution_count": 5,
     "metadata": {},
     "output_type": "execute_result"
    }
   ],
   "source": [
    "model_dict"
   ]
  },
  {
   "cell_type": "code",
   "execution_count": 6,
   "metadata": {},
   "outputs": [],
   "source": [
    "train_array_path=r'D:\\Python_projects\\Insurance_Prediction\\InsurancePremiumPrediction\\artifact\\data_transformation\\22-07-19-07-52-22\\transformed_data\\train\\insurance.npz'\n",
    "test_array_path=r'D:\\Python_projects\\Insurance_Prediction\\InsurancePremiumPrediction\\artifact\\data_transformation\\22-07-19-07-52-22\\transformed_data\\test\\insurance.npz'"
   ]
  },
  {
   "cell_type": "code",
   "execution_count": 7,
   "metadata": {},
   "outputs": [],
   "source": [
    "train_array=load_numpy_array_data(train_array_path)\n",
    "test_array=load_numpy_array_data(test_array_path)\n",
    "X_train,Y_train,X_test,Y_test=train_array[:,:-1],train_array[:,-1],test_array[:,:-1],test_array[:,-1]\n",
    "\n",
    "#X_train,X_test,Y_train,Y_test=train_test_split(X_train,Y_train,random_state=42,test_size=.25)"
   ]
  },
  {
   "cell_type": "code",
   "execution_count": null,
   "metadata": {},
   "outputs": [],
   "source": []
  },
  {
   "cell_type": "code",
   "execution_count": null,
   "metadata": {},
   "outputs": [],
   "source": []
  },
  {
   "cell_type": "code",
   "execution_count": 8,
   "metadata": {},
   "outputs": [],
   "source": [
    "model_score_set={}\n",
    "for i in model_dict.values():\n",
    "    i.fit(X_train,Y_train)\n",
    "    Y_predict=i.predict(X_test)\n",
    "    model_score_set[i]=[i.score(X_train,Y_train),r2_score(Y_test,Y_predict)]\n",
    "    "
   ]
  },
  {
   "cell_type": "code",
   "execution_count": 9,
   "metadata": {},
   "outputs": [
    {
     "data": {
      "text/plain": [
       "{LinearRegression(): [0.7564369419272546, 0.7215214663841498],\n",
       " DecisionTreeRegressor(): [0.9983784082272196, 0.6225056637488888],\n",
       " KNeighborsRegressor(): [0.8526318701881948, 0.7348962189518002],\n",
       " GradientBoostingRegressor(): [0.9081263946076713, 0.8218153275621483],\n",
       " RandomForestRegressor(): [0.9772099562759671, 0.8123474161761627],\n",
       " XGBRegressor(base_score=0.5, booster='gbtree', callbacks=None,\n",
       "              colsample_bylevel=1, colsample_bynode=1, colsample_bytree=1,\n",
       "              early_stopping_rounds=None, enable_categorical=False,\n",
       "              eval_metric=None, gamma=0, gpu_id=-1, grow_policy='depthwise',\n",
       "              importance_type=None, interaction_constraints='',\n",
       "              learning_rate=0.300000012, max_bin=256, max_cat_to_onehot=4,\n",
       "              max_delta_step=0, max_depth=6, max_leaves=0, min_child_weight=1,\n",
       "              missing=nan, monotone_constraints='()', n_estimators=100, n_jobs=0,\n",
       "              num_parallel_tree=1, predictor='auto', random_state=0, reg_alpha=0,\n",
       "              reg_lambda=1, ...): [0.9949444390973472, 0.7470240997712023]}"
      ]
     },
     "execution_count": 9,
     "metadata": {},
     "output_type": "execute_result"
    }
   ],
   "source": [
    "model_score_set"
   ]
  },
  {
   "cell_type": "code",
   "execution_count": null,
   "metadata": {},
   "outputs": [],
   "source": []
  },
  {
   "cell_type": "code",
   "execution_count": 10,
   "metadata": {},
   "outputs": [],
   "source": [
    "x=list(model_score_set.values())\n",
    "import numpy as np\n",
    "x=np.array(x)\n",
    "max=0\n",
    "best_model_dict={}\n",
    "for i in range(6):\n",
    "    if max <x[i][1]:\n",
    "        max=x[i][1]"
   ]
  },
  {
   "cell_type": "code",
   "execution_count": 11,
   "metadata": {},
   "outputs": [
    {
     "data": {
      "text/plain": [
       "0.8218153275621483"
      ]
     },
     "execution_count": 11,
     "metadata": {},
     "output_type": "execute_result"
    }
   ],
   "source": [
    "max"
   ]
  },
  {
   "cell_type": "code",
   "execution_count": 12,
   "metadata": {},
   "outputs": [
    {
     "data": {
      "text/plain": [
       "{'alpha': 0.9,\n",
       " 'ccp_alpha': 0.0,\n",
       " 'criterion': 'friedman_mse',\n",
       " 'init': None,\n",
       " 'learning_rate': 0.1,\n",
       " 'loss': 'ls',\n",
       " 'max_depth': 3,\n",
       " 'max_features': None,\n",
       " 'max_leaf_nodes': None,\n",
       " 'min_impurity_decrease': 0.0,\n",
       " 'min_impurity_split': None,\n",
       " 'min_samples_leaf': 1,\n",
       " 'min_samples_split': 2,\n",
       " 'min_weight_fraction_leaf': 0.0,\n",
       " 'n_estimators': 100,\n",
       " 'n_iter_no_change': None,\n",
       " 'random_state': None,\n",
       " 'subsample': 1.0,\n",
       " 'tol': 0.0001,\n",
       " 'validation_fraction': 0.1,\n",
       " 'verbose': 0,\n",
       " 'warm_start': False}"
      ]
     },
     "execution_count": 12,
     "metadata": {},
     "output_type": "execute_result"
    }
   ],
   "source": [
    "gradient_booster.get_params()"
   ]
  },
  {
   "cell_type": "code",
   "execution_count": 13,
   "metadata": {},
   "outputs": [],
   "source": [
    "para_grid_gradient={\n",
    "    'min_samples_leaf':[1,3,7],\n",
    "    'max_depth': [1,2,3,4],\n",
    "    'random_state': range(100,500,50),\n",
    "    'alpha': [0.1,0.2,0.9],\n",
    "    }\n"
   ]
  },
  {
   "cell_type": "code",
   "execution_count": 14,
   "metadata": {},
   "outputs": [],
   "source": [
    "grid_cv_gradient=GridSearchCV(error_score='raise',estimator=gradient_booster,param_grid=para_grid_gradient,cv=2,n_jobs=-1,verbose=1)"
   ]
  },
  {
   "cell_type": "code",
   "execution_count": 15,
   "metadata": {},
   "outputs": [
    {
     "name": "stdout",
     "output_type": "stream",
     "text": [
      "Fitting 2 folds for each of 288 candidates, totalling 576 fits\n"
     ]
    },
    {
     "data": {
      "text/plain": [
       "GridSearchCV(cv=2, error_score='raise', estimator=GradientBoostingRegressor(),\n",
       "             n_jobs=-1,\n",
       "             param_grid={'alpha': [0.1, 0.2, 0.9], 'max_depth': [1, 2, 3, 4],\n",
       "                         'min_samples_leaf': [1, 3, 7],\n",
       "                         'random_state': range(100, 500, 50)},\n",
       "             verbose=1)"
      ]
     },
     "execution_count": 15,
     "metadata": {},
     "output_type": "execute_result"
    }
   ],
   "source": [
    "grid_cv_gradient.fit(X_train,Y_train)"
   ]
  },
  {
   "cell_type": "code",
   "execution_count": 16,
   "metadata": {},
   "outputs": [],
   "source": [
    "x=grid_cv_gradient.best_params_"
   ]
  },
  {
   "cell_type": "code",
   "execution_count": 17,
   "metadata": {},
   "outputs": [
    {
     "name": "stdout",
     "output_type": "stream",
     "text": [
      "{'alpha': 0.1, 'max_depth': 2, 'min_samples_leaf': 7, 'random_state': 100}\n"
     ]
    }
   ],
   "source": [
    "print(x)"
   ]
  },
  {
   "cell_type": "code",
   "execution_count": 31,
   "metadata": {},
   "outputs": [
    {
     "data": {
      "text/plain": [
       "GradientBoostingRegressor(alpha=0.1, max_depth=2, min_samples_leaf=7,\n",
       "                          random_state=100)"
      ]
     },
     "execution_count": 31,
     "metadata": {},
     "output_type": "execute_result"
    }
   ],
   "source": [
    "GradientBoostingRegressor(**grid_cv_gradient.best_params_)"
   ]
  },
  {
   "cell_type": "code",
   "execution_count": 32,
   "metadata": {},
   "outputs": [
    {
     "data": {
      "text/plain": [
       "GradientBoostingRegressor(alpha=0.1, max_depth=2, min_samples_leaf=7,\n",
       "                          random_state=100)"
      ]
     },
     "execution_count": 32,
     "metadata": {},
     "output_type": "execute_result"
    }
   ],
   "source": [
    "gradient_booster.set_params(**grid_cv_gradient.best_params_)"
   ]
  },
  {
   "cell_type": "code",
   "execution_count": 36,
   "metadata": {},
   "outputs": [
    {
     "data": {
      "text/plain": [
       "GradientBoostingRegressor(alpha=0.1, max_depth=2, min_samples_leaf=7,\n",
       "                          random_state=100)"
      ]
     },
     "execution_count": 36,
     "metadata": {},
     "output_type": "execute_result"
    }
   ],
   "source": [
    "gradient_booster.fit(X_train,Y_train)"
   ]
  },
  {
   "cell_type": "code",
   "execution_count": 37,
   "metadata": {},
   "outputs": [
    {
     "data": {
      "text/plain": [
       "0.8375451809215317"
      ]
     },
     "execution_count": 37,
     "metadata": {},
     "output_type": "execute_result"
    }
   ],
   "source": [
    "gradient_booster.score(X_test,Y_test)\n"
   ]
  },
  {
   "cell_type": "code",
   "execution_count": 30,
   "metadata": {},
   "outputs": [
    {
     "data": {
      "text/plain": [
       "2"
      ]
     },
     "execution_count": 30,
     "metadata": {},
     "output_type": "execute_result"
    }
   ],
   "source": []
  },
  {
   "cell_type": "code",
   "execution_count": 132,
   "metadata": {},
   "outputs": [],
   "source": [
    "y_predict1=grid_cv_gradient.predict(X_test)"
   ]
  },
  {
   "cell_type": "code",
   "execution_count": 133,
   "metadata": {},
   "outputs": [
    {
     "data": {
      "text/plain": [
       "0.8375451809215317"
      ]
     },
     "execution_count": 133,
     "metadata": {},
     "output_type": "execute_result"
    }
   ],
   "source": [
    "r2_score(Y_test,y_predict1)"
   ]
  },
  {
   "cell_type": "code",
   "execution_count": 111,
   "metadata": {},
   "outputs": [
    {
     "data": {
      "text/plain": [
       "0.8348289232587586"
      ]
     },
     "execution_count": 111,
     "metadata": {},
     "output_type": "execute_result"
    }
   ],
   "source": []
  },
  {
   "cell_type": "code",
   "execution_count": 24,
   "metadata": {},
   "outputs": [],
   "source": [
    "gradient_booster_new=GradientBoostingRegressor(max_depth=2, min_samples_split=7, random_state=100,alpha=0.1)"
   ]
  },
  {
   "cell_type": "code",
   "execution_count": 25,
   "metadata": {},
   "outputs": [
    {
     "data": {
      "text/plain": [
       "0.8935007317594853"
      ]
     },
     "execution_count": 25,
     "metadata": {},
     "output_type": "execute_result"
    }
   ],
   "source": [
    "gradient_booster_new.fit(X_train,Y_train)\n",
    "gradient_booster_new.score(X_train,Y_train)"
   ]
  },
  {
   "cell_type": "code",
   "execution_count": 26,
   "metadata": {},
   "outputs": [],
   "source": [
    "Y_predict_=gradient_booster_new.predict(X_test)"
   ]
  },
  {
   "cell_type": "code",
   "execution_count": 27,
   "metadata": {},
   "outputs": [
    {
     "data": {
      "text/plain": [
       "0.8523938736122534"
      ]
     },
     "execution_count": 27,
     "metadata": {},
     "output_type": "execute_result"
    }
   ],
   "source": [
    "gradient_booster_new.score(X_test,Y_test)"
   ]
  },
  {
   "cell_type": "code",
   "execution_count": 28,
   "metadata": {},
   "outputs": [
    {
     "data": {
      "text/plain": [
       "0.1"
      ]
     },
     "execution_count": 28,
     "metadata": {},
     "output_type": "execute_result"
    }
   ],
   "source": [
    "gradient_booster_new.alpha"
   ]
  },
  {
   "cell_type": "code",
   "execution_count": 29,
   "metadata": {},
   "outputs": [
    {
     "data": {
      "text/plain": [
       "0.8523938736122534"
      ]
     },
     "execution_count": 29,
     "metadata": {},
     "output_type": "execute_result"
    }
   ],
   "source": [
    "r2_score(Y_test,Y_predict_)"
   ]
  },
  {
   "cell_type": "code",
   "execution_count": 30,
   "metadata": {},
   "outputs": [],
   "source": [
    "y_predict_validation=gradient_booster_new.predict(x_test_validation)"
   ]
  },
  {
   "cell_type": "code",
   "execution_count": 31,
   "metadata": {},
   "outputs": [
    {
     "data": {
      "text/plain": [
       "0.8350460382636088"
      ]
     },
     "execution_count": 31,
     "metadata": {},
     "output_type": "execute_result"
    }
   ],
   "source": [
    "r2_score(y_test_validation,y_predict_validation)"
   ]
  },
  {
   "cell_type": "code",
   "execution_count": 42,
   "metadata": {},
   "outputs": [],
   "source": [
    "from InsurancePremiumPrediction.logger import logging\n",
    "train=load_numpy_array_data(file_path=train_array_path)\n",
    "test=load_numpy_array_data(file_path=test_array_path)\n",
    "\n",
    "x_train=train[:,:-1]\n",
    "y_train=train[:,-1]\n",
    "x_test=test[:,:-1]\n",
    "y_test=test[:,-1]        \n",
    "\n",
    "        \n",
    "models_r2_scores=[]\n",
    "        \n",
    "linear_reg = LinearRegression()\n",
    "linear_reg.fit(x_train,y_train)\n",
    "y_predict=linear_reg.predict(x_test)\n",
    "linear_reg_r2_score = r2_score(y_test, y_predict)\n",
    "models_r2_scores.append(linear_reg_r2_score)\n",
    "logging.info(f\"Linear Regression r2 score : {linear_reg_r2_score }\")\n",
    "\n",
    "decision_tree = DecisionTreeRegressor()\n",
    "decision_tree.fit(x_train, y_train)\n",
    "y_pred1 = decision_tree.predict(x_test)\n",
    "decision_tree_r2_score = r2_score(y_test, y_pred1)\n",
    "models_r2_scores.append(decision_tree_r2_score)\n",
    "logging.info(f\"Linear Regression r2 score : {decision_tree_r2_score }\")\n",
    "\n",
    "random_forest_reg =RandomForestRegressor()\n",
    "random_forest_reg.fit(x_train, y_train)                        \n",
    "y_pred2 = random_forest_reg.predict(x_test)\n",
    "random_forest_r2_score = r2_score(y_test, y_pred2)\n",
    "models_r2_scores.append(random_forest_r2_score)       \n",
    "logging.info(f\"Random Forest r2 score : {random_forest_r2_score }\")\n",
    "\n",
    "gradient_boosting_reg =GradientBoostingRegressor()\n",
    "gradient_boosting_reg.fit(x_train, y_train)\n",
    "y_pred3 = gradient_boosting_reg.predict(x_test)\n",
    "gradient_boosting_r2_score = r2_score(y_test, y_pred3)\n",
    "models_r2_scores.append(gradient_boosting_r2_score)\n",
    "logging.info(f\"Gradient Boosting r2 score : { gradient_boosting_r2_score }\")\n",
    "\n",
    "xgb_reg =XGBRegressor()\n",
    "xgb_reg.fit(x_train, y_train)\n",
    "y_pred4 = xgb_reg.predict(x_test)\n",
    "xgb_reg_r2_score = r2_score(y_test, y_pred4)\n",
    "models_r2_scores.append(xgb_reg_r2_score) \n",
    "logging.info(f\"XGBRegressor r2 score : { xgb_reg_r2_score }\")\n",
    "\n",
    "\n"
   ]
  },
  {
   "cell_type": "code",
   "execution_count": 43,
   "metadata": {},
   "outputs": [
    {
     "data": {
      "text/plain": [
       "numpy.float64"
      ]
     },
     "execution_count": 43,
     "metadata": {},
     "output_type": "execute_result"
    }
   ],
   "source": [
    "type(random_forest_r2_score)"
   ]
  },
  {
   "cell_type": "code",
   "execution_count": 44,
   "metadata": {},
   "outputs": [
    {
     "data": {
      "text/plain": [
       "0.8220232921655246"
      ]
     },
     "execution_count": 44,
     "metadata": {},
     "output_type": "execute_result"
    }
   ],
   "source": [
    "gradient_boosting_r2_score"
   ]
  },
  {
   "cell_type": "code",
   "execution_count": 45,
   "metadata": {},
   "outputs": [
    {
     "data": {
      "text/plain": [
       "[0.7215214663841498,\n",
       " 0.6211800852435183,\n",
       " 0.8101586935823564,\n",
       " 0.8220232921655246,\n",
       " 0.7470240997712023]"
      ]
     },
     "execution_count": 45,
     "metadata": {},
     "output_type": "execute_result"
    }
   ],
   "source": [
    "models_r2_scores"
   ]
  },
  {
   "cell_type": "code",
   "execution_count": 49,
   "metadata": {},
   "outputs": [],
   "source": [
    "max=0\n",
    "index=0\n",
    "for i in range(5):\n",
    "    if models_r2_scores[i] > max:\n",
    "        max=models_r2_scores[i]\n",
    "        index=i\n"
   ]
  },
  {
   "cell_type": "code",
   "execution_count": 51,
   "metadata": {},
   "outputs": [
    {
     "name": "stdout",
     "output_type": "stream",
     "text": [
      "3 0.8220232921655246\n"
     ]
    }
   ],
   "source": [
    "\n",
    "print(index, max)"
   ]
  },
  {
   "cell_type": "code",
   "execution_count": 40,
   "metadata": {},
   "outputs": [
    {
     "data": {
      "text/plain": [
       "0.08700000000000008"
      ]
     },
     "execution_count": 40,
     "metadata": {},
     "output_type": "execute_result"
    }
   ],
   "source": [
    "abs(.908-.821)"
   ]
  },
  {
   "cell_type": "code",
   "execution_count": 48,
   "metadata": {},
   "outputs": [],
   "source": [
    "def training_models(x_train,y_train,x_test,y_test):\n",
    "        try:\n",
    "            X_train,Y_train,X_test,Y_test=x_train,y_train,x_test,y_test\n",
    "\n",
    "            model_dict={}\n",
    "            linear_model=LinearRegression()\n",
    "            decision_tree_model=DecisionTreeRegressor()\n",
    "            random_forest=RandomForestRegressor()\n",
    "            gradient_booster=GradientBoostingRegressor()\n",
    "\n",
    "            model_dict['linear_model']=linear_model\n",
    "            model_dict['decision_tree_model']=decision_tree_model\n",
    "            model_dict['random_forest']=random_forest\n",
    "            model_dict['gradient_booster']=gradient_booster\n",
    "\n",
    "            model_score_set={}\n",
    "            for i in model_dict.values():\n",
    "                i.fit(X_train,Y_train)\n",
    "                Y_predict=i.predict(X_test)\n",
    "                model_score_set[i]=[i.score(X_train,Y_train),r2_score(Y_test,Y_predict)]\n",
    "            return model_dict,model_score_set\n",
    "        except Exception as e:\n",
    "            raise Exception\n"
   ]
  },
  {
   "cell_type": "code",
   "execution_count": 49,
   "metadata": {},
   "outputs": [],
   "source": [
    "train_array_path=r'D:\\Python_projects\\Insurance_Prediction\\InsurancePremiumPrediction\\artifact\\data_transformation\\22-07-19-07-52-22\\transformed_data\\train\\insurance.npz'\n",
    "test_array_path=r'D:\\Python_projects\\Insurance_Prediction\\InsurancePremiumPrediction\\artifact\\data_transformation\\22-07-19-07-52-22\\transformed_data\\test\\insurance.npz'\n",
    "train_array=load_numpy_array_data(train_array_path)\n",
    "test_array=load_numpy_array_data(test_array_path)\n",
    "x_train,y_train,x_test,y_test=train_array[:,:-1],train_array[:,-1],test_array[:,:-1],test_array[:,-1]"
   ]
  },
  {
   "cell_type": "code",
   "execution_count": 50,
   "metadata": {},
   "outputs": [],
   "source": [
    "model_dict,model_score_set=training_models(x_train,y_train,x_test,y_test)\n"
   ]
  },
  {
   "cell_type": "code",
   "execution_count": 51,
   "metadata": {},
   "outputs": [
    {
     "data": {
      "text/plain": [
       "{'linear_model': LinearRegression(),\n",
       " 'decision_tree_model': DecisionTreeRegressor(),\n",
       " 'random_forest': RandomForestRegressor(),\n",
       " 'gradient_booster': GradientBoostingRegressor()}"
      ]
     },
     "execution_count": 51,
     "metadata": {},
     "output_type": "execute_result"
    }
   ],
   "source": [
    "model_dict"
   ]
  },
  {
   "cell_type": "code",
   "execution_count": 52,
   "metadata": {},
   "outputs": [
    {
     "data": {
      "text/plain": [
       "{LinearRegression(): [0.7564369419272546, 0.7215214663841498],\n",
       " DecisionTreeRegressor(): [0.9983784082272196, 0.6232858674394207],\n",
       " RandomForestRegressor(): [0.9778219591427031, 0.805583422045145],\n",
       " GradientBoostingRegressor(): [0.9081263946076713, 0.8217932058703239]}"
      ]
     },
     "execution_count": 52,
     "metadata": {},
     "output_type": "execute_result"
    }
   ],
   "source": [
    "model_score_set"
   ]
  },
  {
   "cell_type": "code",
   "execution_count": 53,
   "metadata": {},
   "outputs": [],
   "source": [
    "def training_models(x_train,y_train,x_test,y_test):\n",
    "        try:\n",
    "            X_train,Y_train,X_test,Y_test=x_train,y_train,x_test,y_test\n",
    "\n",
    "            model_dict={}\n",
    "            linear_model=LinearRegression()\n",
    "            decision_tree_model=DecisionTreeRegressor()\n",
    "            random_forest=RandomForestRegressor()\n",
    "            gradient_booster=GradientBoostingRegressor()\n",
    "\n",
    "            model_dict['linear_model']=linear_model\n",
    "            model_dict['decision_tree_model']=decision_tree_model\n",
    "            model_dict['random_forest']=random_forest\n",
    "            model_dict['gradient_booster']=gradient_booster\n",
    "\n",
    "            model_score_set={}\n",
    "            for i in model_dict.values():\n",
    "                i.fit(X_train,Y_train)\n",
    "                Y_predict=i.predict(X_test)\n",
    "                model_score_set[i]=[i.score(X_train,Y_train),r2_score(Y_test,Y_predict)]\n",
    "            return model_dict,model_score_set\n",
    "        except Exception as e:\n",
    "            raise Exception"
   ]
  },
  {
   "cell_type": "code",
   "execution_count": 54,
   "metadata": {},
   "outputs": [
    {
     "data": {
      "text/plain": [
       "array([ 6986.7 , 20234.85,  1719.44, ...,  3732.63,  1842.52, 40932.43])"
      ]
     },
     "execution_count": 54,
     "metadata": {},
     "output_type": "execute_result"
    }
   ],
   "source": [
    "y_train"
   ]
  },
  {
   "cell_type": "code",
   "execution_count": 55,
   "metadata": {},
   "outputs": [
    {
     "data": {
      "text/plain": [
       "(1070,)"
      ]
     },
     "execution_count": 55,
     "metadata": {},
     "output_type": "execute_result"
    }
   ],
   "source": [
    "y_train.shape"
   ]
  },
  {
   "cell_type": "code",
   "execution_count": null,
   "metadata": {},
   "outputs": [],
   "source": []
  }
 ],
 "metadata": {
  "kernelspec": {
   "display_name": "Python 3.9.7 ('base')",
   "language": "python",
   "name": "python3"
  },
  "language_info": {
   "codemirror_mode": {
    "name": "ipython",
    "version": 3
   },
   "file_extension": ".py",
   "mimetype": "text/x-python",
   "name": "python",
   "nbconvert_exporter": "python",
   "pygments_lexer": "ipython3",
   "version": "3.9.7"
  },
  "orig_nbformat": 4,
  "vscode": {
   "interpreter": {
    "hash": "b302cdd1e032ee910f5c889c3360c28564c92ad4f326fc3102e39fbe47faee66"
   }
  }
 },
 "nbformat": 4,
 "nbformat_minor": 2
}
