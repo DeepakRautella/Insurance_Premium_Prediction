{
 "cells": [
  {
   "cell_type": "code",
   "execution_count": 6,
   "metadata": {},
   "outputs": [],
   "source": [
    "def get_log_dataframe(file_path):\n",
    "    data=[]\n",
    "    with open(file_path) as log_file:\n",
    "        for line in log_file.readlines():\n",
    "            data.append(line)\n",
    "    log_df = pd.DataFrame(data)\n",
    "    columns=[\"message\"]\n",
    "    log_df.columns=columns\n",
    "\n",
    "    return log_df"
   ]
  },
  {
   "cell_type": "code",
   "execution_count": 7,
   "metadata": {},
   "outputs": [],
   "source": [
    "log_path=r\"D:\\Python_projects\\Insurance_Prediction\\logs\\log_22-07-20-16-51-50.log\""
   ]
  },
  {
   "cell_type": "code",
   "execution_count": 8,
   "metadata": {},
   "outputs": [],
   "source": [
    "import pandas as pd"
   ]
  },
  {
   "cell_type": "code",
   "execution_count": 9,
   "metadata": {},
   "outputs": [],
   "source": [
    "data=get_log_dataframe(file_path=log_path)"
   ]
  },
  {
   "cell_type": "code",
   "execution_count": 10,
   "metadata": {},
   "outputs": [
    {
     "data": {
      "text/html": [
       "<div>\n",
       "<style scoped>\n",
       "    .dataframe tbody tr th:only-of-type {\n",
       "        vertical-align: middle;\n",
       "    }\n",
       "\n",
       "    .dataframe tbody tr th {\n",
       "        vertical-align: top;\n",
       "    }\n",
       "\n",
       "    .dataframe thead th {\n",
       "        text-align: right;\n",
       "    }\n",
       "</style>\n",
       "<table border=\"1\" class=\"dataframe\">\n",
       "  <thead>\n",
       "    <tr style=\"text-align: right;\">\n",
       "      <th></th>\n",
       "      <th>message</th>\n",
       "    </tr>\n",
       "  </thead>\n",
       "  <tbody>\n",
       "    <tr>\n",
       "      <th>0</th>\n",
       "      <td>[2022-07-20 16:51:52,693]-werkzeug-INFO- * Run...</td>\n",
       "    </tr>\n",
       "    <tr>\n",
       "      <th>1</th>\n",
       "      <td>[2022-07-20 16:52:15,568]-root-INFO-GradientBo...</td>\n",
       "    </tr>\n",
       "    <tr>\n",
       "      <th>2</th>\n",
       "      <td>[2022-07-20 16:52:15,583]-app-ERROR-Exception ...</td>\n",
       "    </tr>\n",
       "    <tr>\n",
       "      <th>3</th>\n",
       "      <td>Traceback (most recent call last):\\n</td>\n",
       "    </tr>\n",
       "    <tr>\n",
       "      <th>4</th>\n",
       "      <td>File \"D:\\Python_projects\\Insurance_Predictio...</td>\n",
       "    </tr>\n",
       "    <tr>\n",
       "      <th>...</th>\n",
       "      <td>...</td>\n",
       "    </tr>\n",
       "    <tr>\n",
       "      <th>68</th>\n",
       "      <td>error_message :[Error occured in scrip...</td>\n",
       "    </tr>\n",
       "    <tr>\n",
       "      <th>69</th>\n",
       "      <td>[D:\\Python_projects\\Insurance_Predicti...</td>\n",
       "    </tr>\n",
       "    <tr>\n",
       "      <th>70</th>\n",
       "      <td>[152] and exception block number [155],\\n</td>\n",
       "    </tr>\n",
       "    <tr>\n",
       "      <th>71</th>\n",
       "      <td>error_message :[Found unknown categori...</td>\n",
       "    </tr>\n",
       "    <tr>\n",
       "      <th>72</th>\n",
       "      <td>[2022-07-20 16:52:15,594]-werkzeug-INFO-127.0....</td>\n",
       "    </tr>\n",
       "  </tbody>\n",
       "</table>\n",
       "<p>73 rows × 1 columns</p>\n",
       "</div>"
      ],
      "text/plain": [
       "                                              message\n",
       "0   [2022-07-20 16:51:52,693]-werkzeug-INFO- * Run...\n",
       "1   [2022-07-20 16:52:15,568]-root-INFO-GradientBo...\n",
       "2   [2022-07-20 16:52:15,583]-app-ERROR-Exception ...\n",
       "3                Traceback (most recent call last):\\n\n",
       "4     File \"D:\\Python_projects\\Insurance_Predictio...\n",
       "..                                                ...\n",
       "68          error_message :[Error occured in scrip...\n",
       "69          [D:\\Python_projects\\Insurance_Predicti...\n",
       "70          [152] and exception block number [155],\\n\n",
       "71          error_message :[Found unknown categori...\n",
       "72  [2022-07-20 16:52:15,594]-werkzeug-INFO-127.0....\n",
       "\n",
       "[73 rows x 1 columns]"
      ]
     },
     "execution_count": 10,
     "metadata": {},
     "output_type": "execute_result"
    }
   ],
   "source": [
    "data"
   ]
  },
  {
   "cell_type": "code",
   "execution_count": null,
   "metadata": {},
   "outputs": [],
   "source": []
  }
 ],
 "metadata": {
  "kernelspec": {
   "display_name": "Python 3.7.6 64-bit",
   "language": "python",
   "name": "python3"
  },
  "language_info": {
   "codemirror_mode": {
    "name": "ipython",
    "version": 3
   },
   "file_extension": ".py",
   "mimetype": "text/x-python",
   "name": "python",
   "nbconvert_exporter": "python",
   "pygments_lexer": "ipython3",
   "version": "3.7.6"
  },
  "orig_nbformat": 4,
  "vscode": {
   "interpreter": {
    "hash": "173b1ad0e598a21817c913127c0ed612d69b6c3d0fd1e8e7f3c7ab65a8d7b09a"
   }
  }
 },
 "nbformat": 4,
 "nbformat_minor": 2
}
